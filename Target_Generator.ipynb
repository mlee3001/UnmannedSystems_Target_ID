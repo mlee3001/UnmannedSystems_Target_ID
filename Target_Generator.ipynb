{
 "cells": [
  {
   "cell_type": "markdown",
   "id": "7b8dac8a-a50c-4291-a2b9-ab7db18d4e1b",
   "metadata": {},
   "source": [
    "Target Example Generator for Model Training"
   ]
  },
  {
   "cell_type": "markdown",
   "id": "a7b28934-48d0-4521-8cc8-9f0be6b430dd",
   "metadata": {},
   "source": [
    "Sources:\n",
    "<br> https://github.com/kahngjoonkoh/RandomShapeGenerator.git\n",
    "<br> https://github.com/elkorchi/2DGeometricShapesGenerator.git"
   ]
  },
  {
   "cell_type": "markdown",
   "id": "afbd5329-b39b-4a98-93c4-2a86f9314f0f",
   "metadata": {},
   "source": [
    "Current To Do List:\n",
    "- Create function for drawing each type of shape\n",
    "- Create randomized generator for each shape\n",
    "- Label each generated image"
   ]
  },
  {
   "cell_type": "code",
   "execution_count": 1,
   "id": "43a53e12-6152-47a2-8781-e5e32a95e75c",
   "metadata": {},
   "outputs": [
    {
     "name": "stdout",
     "output_type": "stream",
     "text": [
      "Requirement already satisfied: ultralytics in c:\\users\\mktle\\unmannedsystems_target_id\\ultralytics (8.0.100)\n",
      "Requirement already satisfied: matplotlib>=3.2.2 in c:\\users\\mktle\\anaconda3\\lib\\site-packages (from ultralytics) (3.8.2)\n",
      "Requirement already satisfied: opencv-python>=4.6.0 in c:\\users\\mktle\\anaconda3\\lib\\site-packages (from ultralytics) (4.9.0.80)\n",
      "Requirement already satisfied: Pillow>=7.1.2 in c:\\users\\mktle\\anaconda3\\lib\\site-packages (from ultralytics) (10.0.1)\n",
      "Requirement already satisfied: PyYAML>=5.3.1 in c:\\users\\mktle\\anaconda3\\lib\\site-packages (from ultralytics) (6.0.1)\n",
      "Requirement already satisfied: requests>=2.23.0 in c:\\users\\mktle\\anaconda3\\lib\\site-packages (from ultralytics) (2.31.0)\n",
      "Requirement already satisfied: scipy>=1.4.1 in c:\\users\\mktle\\anaconda3\\lib\\site-packages (from ultralytics) (1.11.4)\n",
      "Requirement already satisfied: torch>=1.7.0 in c:\\users\\mktle\\anaconda3\\lib\\site-packages (from ultralytics) (2.1.2)\n",
      "Requirement already satisfied: torchvision>=0.8.1 in c:\\users\\mktle\\anaconda3\\lib\\site-packages (from ultralytics) (0.16.2)\n",
      "Requirement already satisfied: tqdm>=4.64.0 in c:\\users\\mktle\\anaconda3\\lib\\site-packages (from ultralytics) (4.65.0)\n",
      "Requirement already satisfied: pandas>=1.1.4 in c:\\users\\mktle\\anaconda3\\lib\\site-packages (from ultralytics) (2.1.4)\n",
      "Requirement already satisfied: seaborn>=0.11.0 in c:\\users\\mktle\\anaconda3\\lib\\site-packages (from ultralytics) (0.12.2)\n",
      "Requirement already satisfied: psutil in c:\\users\\mktle\\anaconda3\\lib\\site-packages (from ultralytics) (5.9.0)\n",
      "Requirement already satisfied: thop>=0.1.1 in c:\\users\\mktle\\anaconda3\\lib\\site-packages (from ultralytics) (0.1.1.post2209072238)\n",
      "Requirement already satisfied: sentry_sdk in c:\\users\\mktle\\anaconda3\\lib\\site-packages (from ultralytics) (1.39.2)\n",
      "Requirement already satisfied: contourpy>=1.0.1 in c:\\users\\mktle\\anaconda3\\lib\\site-packages (from matplotlib>=3.2.2->ultralytics) (1.2.0)\n",
      "Requirement already satisfied: cycler>=0.10 in c:\\users\\mktle\\anaconda3\\lib\\site-packages (from matplotlib>=3.2.2->ultralytics) (0.11.0)\n",
      "Requirement already satisfied: fonttools>=4.22.0 in c:\\users\\mktle\\anaconda3\\lib\\site-packages (from matplotlib>=3.2.2->ultralytics) (4.25.0)\n",
      "Requirement already satisfied: kiwisolver>=1.3.1 in c:\\users\\mktle\\anaconda3\\lib\\site-packages (from matplotlib>=3.2.2->ultralytics) (1.4.4)\n",
      "Requirement already satisfied: numpy<2,>=1.21 in c:\\users\\mktle\\anaconda3\\lib\\site-packages (from matplotlib>=3.2.2->ultralytics) (1.26.3)\n",
      "Requirement already satisfied: packaging>=20.0 in c:\\users\\mktle\\anaconda3\\lib\\site-packages (from matplotlib>=3.2.2->ultralytics) (23.1)\n",
      "Requirement already satisfied: pyparsing>=2.3.1 in c:\\users\\mktle\\anaconda3\\lib\\site-packages (from matplotlib>=3.2.2->ultralytics) (3.0.9)\n",
      "Requirement already satisfied: python-dateutil>=2.7 in c:\\users\\mktle\\anaconda3\\lib\\site-packages (from matplotlib>=3.2.2->ultralytics) (2.8.2)\n",
      "Requirement already satisfied: pytz>=2020.1 in c:\\users\\mktle\\anaconda3\\lib\\site-packages (from pandas>=1.1.4->ultralytics) (2023.3.post1)\n",
      "Requirement already satisfied: tzdata>=2022.1 in c:\\users\\mktle\\anaconda3\\lib\\site-packages (from pandas>=1.1.4->ultralytics) (2023.3)\n",
      "Requirement already satisfied: charset-normalizer<4,>=2 in c:\\users\\mktle\\anaconda3\\lib\\site-packages (from requests>=2.23.0->ultralytics) (2.0.4)\n",
      "Requirement already satisfied: idna<4,>=2.5 in c:\\users\\mktle\\anaconda3\\lib\\site-packages (from requests>=2.23.0->ultralytics) (3.4)\n",
      "Requirement already satisfied: urllib3<3,>=1.21.1 in c:\\users\\mktle\\anaconda3\\lib\\site-packages (from requests>=2.23.0->ultralytics) (1.26.18)\n",
      "Requirement already satisfied: certifi>=2017.4.17 in c:\\users\\mktle\\anaconda3\\lib\\site-packages (from requests>=2.23.0->ultralytics) (2023.11.17)\n",
      "Requirement already satisfied: filelock in c:\\users\\mktle\\anaconda3\\lib\\site-packages (from torch>=1.7.0->ultralytics) (3.13.1)\n",
      "Requirement already satisfied: typing-extensions in c:\\users\\mktle\\anaconda3\\lib\\site-packages (from torch>=1.7.0->ultralytics) (4.7.1)\n",
      "Requirement already satisfied: sympy in c:\\users\\mktle\\anaconda3\\lib\\site-packages (from torch>=1.7.0->ultralytics) (1.12)\n",
      "Requirement already satisfied: networkx in c:\\users\\mktle\\anaconda3\\lib\\site-packages (from torch>=1.7.0->ultralytics) (3.1)\n",
      "Requirement already satisfied: jinja2 in c:\\users\\mktle\\anaconda3\\lib\\site-packages (from torch>=1.7.0->ultralytics) (3.1.2)\n",
      "Requirement already satisfied: fsspec in c:\\users\\mktle\\anaconda3\\lib\\site-packages (from torch>=1.7.0->ultralytics) (2023.10.0)\n",
      "Requirement already satisfied: colorama in c:\\users\\mktle\\anaconda3\\lib\\site-packages (from tqdm>=4.64.0->ultralytics) (0.4.6)\n",
      "Requirement already satisfied: six>=1.5 in c:\\users\\mktle\\anaconda3\\lib\\site-packages (from python-dateutil>=2.7->matplotlib>=3.2.2->ultralytics) (1.16.0)\n",
      "Requirement already satisfied: MarkupSafe>=2.0 in c:\\users\\mktle\\anaconda3\\lib\\site-packages (from jinja2->torch>=1.7.0->ultralytics) (2.1.3)\n",
      "Requirement already satisfied: mpmath>=0.19 in c:\\users\\mktle\\anaconda3\\lib\\site-packages (from sympy->torch>=1.7.0->ultralytics) (1.3.0)\n"
     ]
    }
   ],
   "source": [
    "!pip install ultralytics"
   ]
  },
  {
   "cell_type": "code",
   "execution_count": 2,
   "id": "7ecc4f22-fd35-4e15-9466-3197e34db468",
   "metadata": {},
   "outputs": [],
   "source": [
    "from ultralytics import YOLO"
   ]
  },
  {
   "cell_type": "code",
   "execution_count": 4,
   "id": "19335aa6-d51d-4234-9d1b-ba4c1744be9b",
   "metadata": {},
   "outputs": [
    {
     "name": "stderr",
     "output_type": "stream",
     "text": [
      "Downloading https:\\github.com\\ultralytics\\assets\\releases\\download\\v0.0.0\\yolov8m.pt to yolov8m.pt...\n",
      "100%|█████████████████████████████████████████████████████████████████████████████| 49.7M/49.7M [00:15<00:00, 3.32MB/s]\n"
     ]
    }
   ],
   "source": [
    "model = YOLO(\"yolov8m.pt\""
   ]
  },
  {
   "cell_type": "code",
   "execution_count": 2,
   "id": "ce5270f6-e4fe-4dc6-937d-37e827749968",
   "metadata": {},
   "outputs": [
    {
     "name": "stdout",
     "output_type": "stream",
     "text": [
      "Collecting depthai\n",
      "  Downloading depthai-2.24.0.0-cp311-cp311-win_amd64.whl.metadata (8.9 kB)\n",
      "Downloading depthai-2.24.0.0-cp311-cp311-win_amd64.whl (10.4 MB)\n",
      "   ---------------------------------------- 0.0/10.4 MB ? eta -:--:--\n",
      "   ---------------------------------------- 0.0/10.4 MB ? eta -:--:--\n",
      "   ---------------------------------------- 0.1/10.4 MB 1.7 MB/s eta 0:00:07\n",
      "    --------------------------------------- 0.2/10.4 MB 2.5 MB/s eta 0:00:05\n",
      "   - -------------------------------------- 0.4/10.4 MB 2.9 MB/s eta 0:00:04\n",
      "   -- ------------------------------------- 0.5/10.4 MB 3.0 MB/s eta 0:00:04\n",
      "   -- ------------------------------------- 0.7/10.4 MB 3.0 MB/s eta 0:00:04\n",
      "   --- ------------------------------------ 0.8/10.4 MB 3.2 MB/s eta 0:00:04\n",
      "   --- ------------------------------------ 1.0/10.4 MB 3.2 MB/s eta 0:00:03\n",
      "   ---- ----------------------------------- 1.1/10.4 MB 3.0 MB/s eta 0:00:04\n",
      "   ---- ----------------------------------- 1.2/10.4 MB 3.0 MB/s eta 0:00:04\n",
      "   ---- ----------------------------------- 1.3/10.4 MB 2.9 MB/s eta 0:00:04\n",
      "   ----- ---------------------------------- 1.4/10.4 MB 2.7 MB/s eta 0:00:04\n",
      "   ----- ---------------------------------- 1.5/10.4 MB 2.8 MB/s eta 0:00:04\n",
      "   ------ --------------------------------- 1.7/10.4 MB 2.8 MB/s eta 0:00:04\n",
      "   ------ --------------------------------- 1.8/10.4 MB 2.8 MB/s eta 0:00:04\n",
      "   ------- -------------------------------- 2.0/10.4 MB 2.8 MB/s eta 0:00:03\n",
      "   -------- ------------------------------- 2.1/10.4 MB 2.9 MB/s eta 0:00:03\n",
      "   -------- ------------------------------- 2.3/10.4 MB 2.9 MB/s eta 0:00:03\n",
      "   --------- ------------------------------ 2.4/10.4 MB 2.9 MB/s eta 0:00:03\n",
      "   --------- ------------------------------ 2.5/10.4 MB 2.9 MB/s eta 0:00:03\n",
      "   ---------- ----------------------------- 2.7/10.4 MB 2.9 MB/s eta 0:00:03\n",
      "   ---------- ----------------------------- 2.9/10.4 MB 2.9 MB/s eta 0:00:03\n",
      "   ----------- ---------------------------- 3.0/10.4 MB 3.0 MB/s eta 0:00:03\n",
      "   ------------ --------------------------- 3.2/10.4 MB 3.0 MB/s eta 0:00:03\n",
      "   ------------ --------------------------- 3.3/10.4 MB 3.0 MB/s eta 0:00:03\n",
      "   ------------- -------------------------- 3.5/10.4 MB 3.0 MB/s eta 0:00:03\n",
      "   ------------- -------------------------- 3.5/10.4 MB 3.0 MB/s eta 0:00:03\n",
      "   ------------- -------------------------- 3.5/10.4 MB 3.0 MB/s eta 0:00:03\n",
      "   ------------- -------------------------- 3.6/10.4 MB 2.8 MB/s eta 0:00:03\n",
      "   -------------- ------------------------- 3.7/10.4 MB 2.9 MB/s eta 0:00:03\n",
      "   -------------- ------------------------- 3.7/10.4 MB 2.9 MB/s eta 0:00:03\n",
      "   -------------- ------------------------- 3.7/10.4 MB 2.9 MB/s eta 0:00:03\n",
      "   -------------- ------------------------- 3.7/10.4 MB 2.9 MB/s eta 0:00:03\n",
      "   -------------- ------------------------- 3.8/10.4 MB 2.5 MB/s eta 0:00:03\n",
      "   -------------- ------------------------- 3.9/10.4 MB 2.5 MB/s eta 0:00:03\n",
      "   -------------- ------------------------- 3.9/10.4 MB 2.5 MB/s eta 0:00:03\n",
      "   -------------- ------------------------- 3.9/10.4 MB 2.5 MB/s eta 0:00:03\n",
      "   -------------- ------------------------- 3.9/10.4 MB 2.5 MB/s eta 0:00:03\n",
      "   --------------- ------------------------ 4.0/10.4 MB 2.3 MB/s eta 0:00:03\n",
      "   --------------- ------------------------ 4.0/10.4 MB 2.3 MB/s eta 0:00:03\n",
      "   --------------- ------------------------ 4.0/10.4 MB 2.3 MB/s eta 0:00:03\n",
      "   --------------- ------------------------ 4.0/10.4 MB 2.3 MB/s eta 0:00:03\n",
      "   --------------- ------------------------ 4.0/10.4 MB 2.3 MB/s eta 0:00:03\n",
      "   --------------- ------------------------ 4.0/10.4 MB 2.3 MB/s eta 0:00:03\n",
      "   --------------- ------------------------ 4.0/10.4 MB 2.3 MB/s eta 0:00:03\n",
      "   --------------- ------------------------ 4.0/10.4 MB 2.3 MB/s eta 0:00:03\n",
      "   --------------- ------------------------ 4.0/10.4 MB 2.3 MB/s eta 0:00:03\n",
      "   --------------- ------------------------ 4.1/10.4 MB 1.9 MB/s eta 0:00:04\n",
      "   ---------------- ----------------------- 4.2/10.4 MB 1.9 MB/s eta 0:00:04\n",
      "   ---------------- ----------------------- 4.2/10.4 MB 1.9 MB/s eta 0:00:04\n",
      "   ---------------- ----------------------- 4.2/10.4 MB 1.9 MB/s eta 0:00:04\n",
      "   ---------------- ----------------------- 4.2/10.4 MB 1.9 MB/s eta 0:00:04\n",
      "   ---------------- ----------------------- 4.2/10.4 MB 1.9 MB/s eta 0:00:04\n",
      "   ---------------- ----------------------- 4.3/10.4 MB 1.8 MB/s eta 0:00:04\n",
      "   ---------------- ----------------------- 4.4/10.4 MB 1.8 MB/s eta 0:00:04\n",
      "   ---------------- ----------------------- 4.4/10.4 MB 1.8 MB/s eta 0:00:04\n",
      "   ---------------- ----------------------- 4.4/10.4 MB 1.8 MB/s eta 0:00:04\n",
      "   ---------------- ----------------------- 4.4/10.4 MB 1.8 MB/s eta 0:00:04\n",
      "   ---------------- ----------------------- 4.4/10.4 MB 1.8 MB/s eta 0:00:04\n",
      "   ---------------- ----------------------- 4.4/10.4 MB 1.8 MB/s eta 0:00:04\n",
      "   ---------------- ----------------------- 4.4/10.4 MB 1.8 MB/s eta 0:00:04\n",
      "   ---------------- ----------------------- 4.4/10.4 MB 1.8 MB/s eta 0:00:04\n",
      "   ---------------- ----------------------- 4.4/10.4 MB 1.8 MB/s eta 0:00:04\n",
      "   ---------------- ----------------------- 4.4/10.4 MB 1.8 MB/s eta 0:00:04\n",
      "   ----------------- ---------------------- 4.5/10.4 MB 1.5 MB/s eta 0:00:04\n",
      "   ----------------- ---------------------- 4.5/10.4 MB 1.5 MB/s eta 0:00:04\n",
      "   ----------------- ---------------------- 4.5/10.4 MB 1.5 MB/s eta 0:00:04\n",
      "   ----------------- ---------------------- 4.5/10.4 MB 1.5 MB/s eta 0:00:04\n",
      "   ----------------- ---------------------- 4.5/10.4 MB 1.5 MB/s eta 0:00:04\n",
      "   ----------------- ---------------------- 4.5/10.4 MB 1.5 MB/s eta 0:00:04\n",
      "   ----------------- ---------------------- 4.5/10.4 MB 1.5 MB/s eta 0:00:04\n",
      "   ----------------- ---------------------- 4.5/10.4 MB 1.5 MB/s eta 0:00:04\n",
      "   ----------------- ---------------------- 4.5/10.4 MB 1.5 MB/s eta 0:00:04\n",
      "   ----------------- ---------------------- 4.5/10.4 MB 1.5 MB/s eta 0:00:04\n",
      "   ----------------- ---------------------- 4.5/10.4 MB 1.5 MB/s eta 0:00:04\n",
      "   ----------------- ---------------------- 4.6/10.4 MB 1.3 MB/s eta 0:00:05\n",
      "   ----------------- ---------------------- 4.6/10.4 MB 1.3 MB/s eta 0:00:05\n",
      "   ----------------- ---------------------- 4.6/10.4 MB 1.3 MB/s eta 0:00:05\n",
      "   ----------------- ---------------------- 4.6/10.4 MB 1.3 MB/s eta 0:00:05\n",
      "   ----------------- ---------------------- 4.6/10.4 MB 1.3 MB/s eta 0:00:05\n",
      "   ----------------- ---------------------- 4.6/10.4 MB 1.3 MB/s eta 0:00:05\n",
      "   ------------------ --------------------- 4.7/10.4 MB 1.3 MB/s eta 0:00:05\n",
      "   ------------------ --------------------- 4.7/10.4 MB 1.3 MB/s eta 0:00:05\n",
      "   ------------------ --------------------- 4.7/10.4 MB 1.3 MB/s eta 0:00:05\n",
      "   ------------------ --------------------- 4.7/10.4 MB 1.3 MB/s eta 0:00:05\n",
      "   ------------------ --------------------- 4.7/10.4 MB 1.3 MB/s eta 0:00:05\n",
      "   ------------------ --------------------- 4.7/10.4 MB 1.3 MB/s eta 0:00:05\n",
      "   ------------------ --------------------- 4.7/10.4 MB 1.3 MB/s eta 0:00:05\n",
      "   ------------------ --------------------- 4.7/10.4 MB 1.3 MB/s eta 0:00:05\n",
      "   ------------------ --------------------- 4.7/10.4 MB 1.3 MB/s eta 0:00:05\n",
      "   ------------------ --------------------- 4.7/10.4 MB 1.3 MB/s eta 0:00:05\n",
      "   ------------------ --------------------- 4.8/10.4 MB 1.1 MB/s eta 0:00:06\n",
      "   ------------------ --------------------- 4.9/10.4 MB 1.1 MB/s eta 0:00:05\n",
      "   ------------------ --------------------- 4.9/10.4 MB 1.1 MB/s eta 0:00:05\n",
      "   ------------------ --------------------- 4.9/10.4 MB 1.1 MB/s eta 0:00:05\n",
      "   ------------------ --------------------- 4.9/10.4 MB 1.1 MB/s eta 0:00:05\n",
      "   ------------------ --------------------- 4.9/10.4 MB 1.1 MB/s eta 0:00:05\n",
      "   ------------------ --------------------- 4.9/10.4 MB 1.1 MB/s eta 0:00:05\n",
      "   ------------------ --------------------- 4.9/10.4 MB 1.1 MB/s eta 0:00:05\n",
      "   ------------------ --------------------- 4.9/10.4 MB 1.1 MB/s eta 0:00:05\n",
      "   ------------------ --------------------- 4.9/10.4 MB 1.1 MB/s eta 0:00:05\n",
      "   ------------------ --------------------- 4.9/10.4 MB 1.0 MB/s eta 0:00:06\n",
      "   ------------------- -------------------- 5.0/10.4 MB 1.1 MB/s eta 0:00:06\n",
      "   ------------------- -------------------- 5.0/10.4 MB 1.1 MB/s eta 0:00:06\n",
      "   ------------------- -------------------- 5.0/10.4 MB 1.1 MB/s eta 0:00:06\n",
      "   ------------------- -------------------- 5.0/10.4 MB 1.1 MB/s eta 0:00:06\n",
      "   ------------------- -------------------- 5.1/10.4 MB 1.0 MB/s eta 0:00:06\n",
      "   ------------------- -------------------- 5.2/10.4 MB 1.0 MB/s eta 0:00:06\n",
      "   ------------------- -------------------- 5.2/10.4 MB 1.0 MB/s eta 0:00:06\n",
      "   ------------------- -------------------- 5.2/10.4 MB 1.0 MB/s eta 0:00:06\n",
      "   ------------------- -------------------- 5.2/10.4 MB 1.0 MB/s eta 0:00:06\n",
      "   ------------------- -------------------- 5.2/10.4 MB 1.0 MB/s eta 0:00:06\n",
      "   -------------------- ------------------- 5.2/10.4 MB 1.0 MB/s eta 0:00:06\n",
      "   -------------------- ------------------- 5.2/10.4 MB 1.0 MB/s eta 0:00:06\n",
      "   -------------------- ------------------- 5.2/10.4 MB 1.0 MB/s eta 0:00:06\n",
      "   -------------------- ------------------- 5.2/10.4 MB 1.0 MB/s eta 0:00:06\n",
      "   -------------------- ------------------- 5.2/10.4 MB 1.0 MB/s eta 0:00:06\n",
      "   -------------------- ------------------- 5.2/10.4 MB 968.9 kB/s eta 0:00:06\n",
      "   -------------------- ------------------- 5.2/10.4 MB 968.9 kB/s eta 0:00:06\n",
      "   -------------------- ------------------- 5.4/10.4 MB 969.2 kB/s eta 0:00:06\n",
      "   -------------------- ------------------- 5.4/10.4 MB 962.9 kB/s eta 0:00:06\n",
      "   -------------------- ------------------- 5.4/10.4 MB 970.2 kB/s eta 0:00:06\n",
      "   -------------------- ------------------- 5.4/10.4 MB 970.2 kB/s eta 0:00:06\n",
      "   -------------------- ------------------- 5.4/10.4 MB 970.2 kB/s eta 0:00:06\n",
      "   -------------------- ------------------- 5.4/10.4 MB 970.2 kB/s eta 0:00:06\n",
      "   -------------------- ------------------- 5.4/10.4 MB 970.2 kB/s eta 0:00:06\n",
      "   --------------------- ------------------ 5.6/10.4 MB 947.3 kB/s eta 0:00:06\n",
      "   --------------------- ------------------ 5.6/10.4 MB 956.0 kB/s eta 0:00:06\n",
      "   --------------------- ------------------ 5.7/10.4 MB 959.8 kB/s eta 0:00:05\n",
      "   ---------------------- ----------------- 5.9/10.4 MB 978.8 kB/s eta 0:00:05\n",
      "   ----------------------- ---------------- 6.0/10.4 MB 996.7 kB/s eta 0:00:05\n",
      "   ----------------------- ---------------- 6.2/10.4 MB 1.0 MB/s eta 0:00:05\n",
      "   ------------------------ --------------- 6.3/10.4 MB 1.0 MB/s eta 0:00:05\n",
      "   ------------------------ --------------- 6.4/10.4 MB 1.0 MB/s eta 0:00:04\n",
      "   ------------------------- -------------- 6.6/10.4 MB 1.1 MB/s eta 0:00:04\n",
      "   ------------------------- -------------- 6.7/10.4 MB 1.1 MB/s eta 0:00:04\n",
      "   -------------------------- ------------- 6.9/10.4 MB 1.1 MB/s eta 0:00:04\n",
      "   --------------------------- ------------ 7.0/10.4 MB 1.1 MB/s eta 0:00:04\n",
      "   --------------------------- ------------ 7.2/10.4 MB 1.1 MB/s eta 0:00:03\n",
      "   --------------------------- ------------ 7.2/10.4 MB 1.1 MB/s eta 0:00:03\n",
      "   --------------------------- ------------ 7.3/10.4 MB 1.1 MB/s eta 0:00:03\n",
      "   ---------------------------- ----------- 7.4/10.4 MB 1.1 MB/s eta 0:00:03\n",
      "   ---------------------------- ----------- 7.5/10.4 MB 1.1 MB/s eta 0:00:03\n",
      "   ---------------------------- ----------- 7.5/10.4 MB 1.1 MB/s eta 0:00:03\n",
      "   ----------------------------- ---------- 7.6/10.4 MB 1.1 MB/s eta 0:00:03\n",
      "   ----------------------------- ---------- 7.7/10.4 MB 1.1 MB/s eta 0:00:03\n",
      "   ------------------------------ --------- 7.9/10.4 MB 1.2 MB/s eta 0:00:03\n",
      "   ------------------------------ --------- 8.0/10.4 MB 1.2 MB/s eta 0:00:03\n",
      "   ------------------------------- -------- 8.2/10.4 MB 1.2 MB/s eta 0:00:02\n",
      "   ------------------------------- -------- 8.3/10.4 MB 1.2 MB/s eta 0:00:02\n",
      "   -------------------------------- ------- 8.4/10.4 MB 1.2 MB/s eta 0:00:02\n",
      "   -------------------------------- ------- 8.6/10.4 MB 1.2 MB/s eta 0:00:02\n",
      "   --------------------------------- ------ 8.7/10.4 MB 1.2 MB/s eta 0:00:02\n",
      "   --------------------------------- ------ 8.8/10.4 MB 1.2 MB/s eta 0:00:02\n",
      "   ---------------------------------- ----- 9.0/10.4 MB 1.3 MB/s eta 0:00:02\n",
      "   ---------------------------------- ----- 9.0/10.4 MB 1.3 MB/s eta 0:00:02\n",
      "   ---------------------------------- ----- 9.0/10.4 MB 1.2 MB/s eta 0:00:02\n",
      "   ----------------------------------- ---- 9.2/10.4 MB 1.3 MB/s eta 0:00:01\n",
      "   ----------------------------------- ---- 9.3/10.4 MB 1.3 MB/s eta 0:00:01\n",
      "   ------------------------------------ --- 9.4/10.4 MB 1.3 MB/s eta 0:00:01\n",
      "   ------------------------------------ --- 9.4/10.4 MB 1.3 MB/s eta 0:00:01\n",
      "   ------------------------------------ --- 9.5/10.4 MB 1.3 MB/s eta 0:00:01\n",
      "   ------------------------------------ --- 9.6/10.4 MB 1.3 MB/s eta 0:00:01\n",
      "   ------------------------------------ --- 9.6/10.4 MB 1.3 MB/s eta 0:00:01\n",
      "   ------------------------------------- -- 9.7/10.4 MB 1.3 MB/s eta 0:00:01\n",
      "   ------------------------------------- -- 9.9/10.4 MB 1.3 MB/s eta 0:00:01\n",
      "   -------------------------------------- - 9.9/10.4 MB 1.3 MB/s eta 0:00:01\n",
      "   -------------------------------------- - 10.1/10.4 MB 1.3 MB/s eta 0:00:01\n",
      "   ---------------------------------------  10.3/10.4 MB 1.3 MB/s eta 0:00:01\n",
      "   ---------------------------------------  10.4/10.4 MB 1.3 MB/s eta 0:00:01\n",
      "   ---------------------------------------  10.4/10.4 MB 1.3 MB/s eta 0:00:01\n",
      "   ---------------------------------------- 10.4/10.4 MB 1.3 MB/s eta 0:00:00\n",
      "Installing collected packages: depthai\n",
      "Successfully installed depthai-2.24.0.0\n"
     ]
    }
   ],
   "source": [
    "!pip install depthai"
   ]
  },
  {
   "cell_type": "code",
   "execution_count": 11,
   "id": "68342c64-7042-4f71-97e6-f0d5720cd955",
   "metadata": {},
   "outputs": [
    {
     "name": "stderr",
     "output_type": "stream",
     "text": [
      "C:\\Users\\mktle\\AppData\\Local\\Temp\\ipykernel_38692\\3507176431.py:5: DeprecationWarning: RGB is deprecated, use CAM_A or address camera by name instead.\n",
      "  print(f\"RGB FOV {calibData.getFov(dai.CameraBoardSocket.RGB)}, Mono FOV {calibData.getFov(dai.CameraBoardSocket.LEFT)}\")\n",
      "C:\\Users\\mktle\\AppData\\Local\\Temp\\ipykernel_38692\\3507176431.py:5: DeprecationWarning: LEFT is deprecated, use CAM_B or address camera by name  instead.\n",
      "  print(f\"RGB FOV {calibData.getFov(dai.CameraBoardSocket.RGB)}, Mono FOV {calibData.getFov(dai.CameraBoardSocket.LEFT)}\")\n"
     ]
    },
    {
     "name": "stdout",
     "output_type": "stream",
     "text": [
      "RGB FOV 68.7938003540039, Mono FOV 71.86000061035156\n"
     ]
    }
   ],
   "source": [
    "import depthai as dai\n",
    "pipeline = dai.Pipeline()\n",
    "with dai.Device(pipeline) as device:\n",
    "    calibData = device.readCalibration()\n",
    "    print(f\"RGB FOV {calibData.getFov(dai.CameraBoardSocket.RGB)}, Mono FOV {calibData.getFov(dai.CameraBoardSocket.LEFT)}\")"
   ]
  },
  {
   "cell_type": "code",
   "execution_count": null,
   "id": "c1e93ccc-f3f8-44ba-83f2-6953157dcf18",
   "metadata": {},
   "outputs": [],
   "source": []
  }
 ],
 "metadata": {
  "kernelspec": {
   "display_name": "Python 3 (ipykernel)",
   "language": "python",
   "name": "python3"
  },
  "language_info": {
   "codemirror_mode": {
    "name": "ipython",
    "version": 3
   },
   "file_extension": ".py",
   "mimetype": "text/x-python",
   "name": "python",
   "nbconvert_exporter": "python",
   "pygments_lexer": "ipython3",
   "version": "3.11.7"
  }
 },
 "nbformat": 4,
 "nbformat_minor": 5
}
